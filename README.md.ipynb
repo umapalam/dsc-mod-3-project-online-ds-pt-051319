{
 "cells": [
  {
   "cell_type": "markdown",
   "metadata": {},
   "source": [
    "## Introduction \n",
    "\n",
    "This project is a statistical analysis on the Northwind company. We will be looking at data collected on the company. This includes the sale of products, the performance of various regions within the company and other data focused on profits. SQL will be used to query information from the data after importing various libraries to help with analysis. From this point on, hypothesis tests will be conducted on the data in order to find valuable insights about the way the company functions. \n",
    "\n",
    "### Objectives \n",
    "\n",
    "- Import necessary libraries into Jupyter Notebook. \n",
    "- Scrub the data using SQL.  \n",
    "- Visualize the data using various types of graphs and charts.\n",
    "- Create questions based on findings.  \n",
    "- Test the hypothesis, make sure to include p-values and other statistics that are relevant to the analysis such as effect size. \n",
    "- Each question has to include a null and alternative hypothesis. \n",
    "- Write detailed results at the end of the project and utilize the markdown capability in order to present data in an organized fashion.  \n",
    "\n",
    "### Hypothesis \n",
    "\n",
    "Come up with both a null and alternative hypothesis to the questions below. \n",
    "\n",
    "1. **_Does discount amount have a statistically significant effect on the quantity of a product in an order? If so, at what level(s) of discount?_**\n",
    "\n",
    "2. **_Is there a significant difference in discounts given by employees from the United States and British Isles?_**.  \n",
    "    \n",
    "3. **_Is there a significant difference in cost of orders by region?_**.  \n",
    "\n",
    "4. **_Is there a significant difference in terms of cost for carriers?_**.  \n",
    "\n",
    "## Deliverables \n",
    "\n",
    "### Jupyter Notebook \n",
    "\n",
    "A **_Jupyter Notebook_** containing any code written for this project. This work will need to be pushed to your GitHub repository in order to submit your project.\n",
    "\n",
    "### Executive Summary (Power Point Presentation) \n",
    "\n",
    "An **_\"Executive Summary\" PowerPoint Presentation_** that explains the hypothesis tests and findings, and their relevance to company stakeholders.  \n",
    "\n",
    "### Blog Post \n",
    "\n",
    "A **_[Blog Post](https://umapalam.github.io/hypothesis_testing_with_northwind)_** about aspects of the project and process. \n",
    "\n",
    "### Edited README.md\n",
    "\n",
    "An organized **README.md** file in the GitHub repository that describes the contents of the repository. This file should be the source of information for navigating through the repository."
   ]
  },
  {
   "cell_type": "code",
   "execution_count": null,
   "metadata": {},
   "outputs": [],
   "source": []
  }
 ],
 "metadata": {
  "kernelspec": {
   "display_name": "Python 3",
   "language": "python",
   "name": "python3"
  },
  "language_info": {
   "codemirror_mode": {
    "name": "ipython",
    "version": 3
   },
   "file_extension": ".py",
   "mimetype": "text/x-python",
   "name": "python",
   "nbconvert_exporter": "python",
   "pygments_lexer": "ipython3",
   "version": "3.6.9"
  }
 },
 "nbformat": 4,
 "nbformat_minor": 2
}
